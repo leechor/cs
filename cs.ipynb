{
 "cells": [
  {
   "cell_type": "code",
   "execution_count": 20,
   "metadata": {
    "collapsed": false
   },
   "outputs": [],
   "source": [
    "import numpy as np\n",
    "import tensorflow as tf\n",
    "import pandas as pd\n",
    "import matplotlib as mpl\n",
    "\n",
    "import datetime\n",
    "import matplotlib.pyplot as plt\n",
    "from IPython.core.debugger import Pdb\n",
    "from matplotlib.finance import candlestick2_ohlc, candlestick_ohlc\n",
    "\n",
    "mpl.rcParams['font.sans-serif'] = ['SimHei']\n",
    "mpl.rcParams['font.serif'] = ['SimHei']\n",
    "%matplotlib inline\n",
    "\n",
    "def reset_graph(seed=42):\n",
    "    tf.reset_default_graph()\n",
    "    tf.set_random_seed(seed)\n",
    "    np.random.seed(seed)\n",
    "\n",
    "pdb = Pdb()"
   ]
  },
  {
   "cell_type": "markdown",
   "metadata": {},
   "source": [
    "#### 定义相关的参数"
   ]
  },
  {
   "cell_type": "code",
   "execution_count": 21,
   "metadata": {
    "collapsed": true
   },
   "outputs": [],
   "source": [
    "DATA_PATH = 'e:/cs.csv'\n",
    "\n",
    "# LSTM中隐藏节点的个数\n",
    "HIDDEN_SIZE = 30\n",
    "# LSTM的层数\n",
    "NUM_LAYERS = 2\n",
    "\n",
    "#　循环神经网络的截断长度\n",
    "TIMESTEPS = 10\n",
    "# 训练轮数\n",
    "TRAING_STEPS = 10000\n",
    "TRAIN_BATCH_SIZE = 30\n",
    "\n",
    "LEARNING_RATE = 1.0\n"
   ]
  },
  {
   "cell_type": "markdown",
   "metadata": {},
   "source": [
    "#### 读取CS商品数据"
   ]
  },
  {
   "cell_type": "code",
   "execution_count": 22,
   "metadata": {
    "collapsed": false
   },
   "outputs": [],
   "source": [
    "data = pd.read_csv(DATA_PATH)"
   ]
  },
  {
   "cell_type": "code",
   "execution_count": 23,
   "metadata": {
    "collapsed": false
   },
   "outputs": [
    {
     "data": {
      "text/html": [
       "<div>\n",
       "<table border=\"1\" class=\"dataframe\">\n",
       "  <thead>\n",
       "    <tr style=\"text-align: right;\">\n",
       "      <th></th>\n",
       "      <th>dataTime</th>\n",
       "      <th>instrumentID</th>\n",
       "      <th>openPrice</th>\n",
       "      <th>highestPrice</th>\n",
       "      <th>lowestPrice</th>\n",
       "      <th>closePrice</th>\n",
       "      <th>openInterest</th>\n",
       "      <th>volume</th>\n",
       "      <th>turnover</th>\n",
       "      <th>openVolume</th>\n",
       "      <th>openAmount</th>\n",
       "    </tr>\n",
       "  </thead>\n",
       "  <tbody>\n",
       "    <tr>\n",
       "      <th>0</th>\n",
       "      <td>20141219 09:05:00</td>\n",
       "      <td>cs0000</td>\n",
       "      <td>2750</td>\n",
       "      <td>2845</td>\n",
       "      <td>2750</td>\n",
       "      <td>2798</td>\n",
       "      <td>0</td>\n",
       "      <td>7798</td>\n",
       "      <td>5156</td>\n",
       "      <td>0</td>\n",
       "      <td>0</td>\n",
       "    </tr>\n",
       "    <tr>\n",
       "      <th>1</th>\n",
       "      <td>20141219 09:10:00</td>\n",
       "      <td>cs0000</td>\n",
       "      <td>2798</td>\n",
       "      <td>2811</td>\n",
       "      <td>2798</td>\n",
       "      <td>2805</td>\n",
       "      <td>0</td>\n",
       "      <td>2884</td>\n",
       "      <td>5886</td>\n",
       "      <td>0</td>\n",
       "      <td>0</td>\n",
       "    </tr>\n",
       "    <tr>\n",
       "      <th>2</th>\n",
       "      <td>20141219 09:15:00</td>\n",
       "      <td>cs0000</td>\n",
       "      <td>2805</td>\n",
       "      <td>2841</td>\n",
       "      <td>2804</td>\n",
       "      <td>2836</td>\n",
       "      <td>0</td>\n",
       "      <td>4936</td>\n",
       "      <td>6548</td>\n",
       "      <td>0</td>\n",
       "      <td>0</td>\n",
       "    </tr>\n",
       "    <tr>\n",
       "      <th>3</th>\n",
       "      <td>20141219 09:20:00</td>\n",
       "      <td>cs0000</td>\n",
       "      <td>2835</td>\n",
       "      <td>2836</td>\n",
       "      <td>2812</td>\n",
       "      <td>2827</td>\n",
       "      <td>0</td>\n",
       "      <td>3014</td>\n",
       "      <td>6826</td>\n",
       "      <td>0</td>\n",
       "      <td>0</td>\n",
       "    </tr>\n",
       "    <tr>\n",
       "      <th>4</th>\n",
       "      <td>20141219 09:25:00</td>\n",
       "      <td>cs0000</td>\n",
       "      <td>2827</td>\n",
       "      <td>2830</td>\n",
       "      <td>2817</td>\n",
       "      <td>2820</td>\n",
       "      <td>0</td>\n",
       "      <td>1442</td>\n",
       "      <td>7150</td>\n",
       "      <td>0</td>\n",
       "      <td>0</td>\n",
       "    </tr>\n",
       "  </tbody>\n",
       "</table>\n",
       "</div>"
      ],
      "text/plain": [
       "            dataTime instrumentID  openPrice  highestPrice  lowestPrice  \\\n",
       "0  20141219 09:05:00       cs0000       2750          2845         2750   \n",
       "1  20141219 09:10:00       cs0000       2798          2811         2798   \n",
       "2  20141219 09:15:00       cs0000       2805          2841         2804   \n",
       "3  20141219 09:20:00       cs0000       2835          2836         2812   \n",
       "4  20141219 09:25:00       cs0000       2827          2830         2817   \n",
       "\n",
       "   closePrice  openInterest  volume  turnover  openVolume  openAmount  \n",
       "0        2798             0    7798      5156           0           0  \n",
       "1        2805             0    2884      5886           0           0  \n",
       "2        2836             0    4936      6548           0           0  \n",
       "3        2827             0    3014      6826           0           0  \n",
       "4        2820             0    1442      7150           0           0  "
      ]
     },
     "execution_count": 23,
     "metadata": {},
     "output_type": "execute_result"
    }
   ],
   "source": [
    "data.head()"
   ]
  },
  {
   "cell_type": "markdown",
   "metadata": {
    "collapsed": true
   },
   "source": [
    "#### 删除全零列及商品类别"
   ]
  },
  {
   "cell_type": "code",
   "execution_count": 24,
   "metadata": {
    "collapsed": false
   },
   "outputs": [
    {
     "data": {
      "text/html": [
       "<div>\n",
       "<table border=\"1\" class=\"dataframe\">\n",
       "  <thead>\n",
       "    <tr style=\"text-align: right;\">\n",
       "      <th></th>\n",
       "      <th>dataTime</th>\n",
       "      <th>openPrice</th>\n",
       "      <th>highestPrice</th>\n",
       "      <th>lowestPrice</th>\n",
       "      <th>closePrice</th>\n",
       "      <th>volume</th>\n",
       "      <th>turnover</th>\n",
       "    </tr>\n",
       "  </thead>\n",
       "  <tbody>\n",
       "    <tr>\n",
       "      <th>0</th>\n",
       "      <td>20141219 09:05:00</td>\n",
       "      <td>2750</td>\n",
       "      <td>2845</td>\n",
       "      <td>2750</td>\n",
       "      <td>2798</td>\n",
       "      <td>7798</td>\n",
       "      <td>5156</td>\n",
       "    </tr>\n",
       "    <tr>\n",
       "      <th>1</th>\n",
       "      <td>20141219 09:10:00</td>\n",
       "      <td>2798</td>\n",
       "      <td>2811</td>\n",
       "      <td>2798</td>\n",
       "      <td>2805</td>\n",
       "      <td>2884</td>\n",
       "      <td>5886</td>\n",
       "    </tr>\n",
       "    <tr>\n",
       "      <th>2</th>\n",
       "      <td>20141219 09:15:00</td>\n",
       "      <td>2805</td>\n",
       "      <td>2841</td>\n",
       "      <td>2804</td>\n",
       "      <td>2836</td>\n",
       "      <td>4936</td>\n",
       "      <td>6548</td>\n",
       "    </tr>\n",
       "    <tr>\n",
       "      <th>3</th>\n",
       "      <td>20141219 09:20:00</td>\n",
       "      <td>2835</td>\n",
       "      <td>2836</td>\n",
       "      <td>2812</td>\n",
       "      <td>2827</td>\n",
       "      <td>3014</td>\n",
       "      <td>6826</td>\n",
       "    </tr>\n",
       "    <tr>\n",
       "      <th>4</th>\n",
       "      <td>20141219 09:25:00</td>\n",
       "      <td>2827</td>\n",
       "      <td>2830</td>\n",
       "      <td>2817</td>\n",
       "      <td>2820</td>\n",
       "      <td>1442</td>\n",
       "      <td>7150</td>\n",
       "    </tr>\n",
       "  </tbody>\n",
       "</table>\n",
       "</div>"
      ],
      "text/plain": [
       "            dataTime  openPrice  highestPrice  lowestPrice  closePrice  \\\n",
       "0  20141219 09:05:00       2750          2845         2750        2798   \n",
       "1  20141219 09:10:00       2798          2811         2798        2805   \n",
       "2  20141219 09:15:00       2805          2841         2804        2836   \n",
       "3  20141219 09:20:00       2835          2836         2812        2827   \n",
       "4  20141219 09:25:00       2827          2830         2817        2820   \n",
       "\n",
       "   volume  turnover  \n",
       "0    7798      5156  \n",
       "1    2884      5886  \n",
       "2    4936      6548  \n",
       "3    3014      6826  \n",
       "4    1442      7150  "
      ]
     },
     "execution_count": 24,
     "metadata": {},
     "output_type": "execute_result"
    }
   ],
   "source": [
    "data.drop(['instrumentID', \"openInterest\", 'openVolume', 'openAmount'], axis=1, inplace=True)\n",
    "data.head()"
   ]
  },
  {
   "cell_type": "markdown",
   "metadata": {},
   "source": [
    "#### 将时间转换为每日积秒,作为特征列"
   ]
  },
  {
   "cell_type": "code",
   "execution_count": 25,
   "metadata": {
    "collapsed": false
   },
   "outputs": [],
   "source": [
    "def stt(x):\n",
    "    return datetime.datetime.strptime(x, '%Y%m%d %H:%M:%S')\n",
    "\n",
    "\n",
    "data.dataTime = data.dataTime.apply(\n",
    "    lambda x: (stt(x) - stt(x).replace(hour=0, minute=0, second=0, microsecond=0)).total_seconds()).astype(int)\n",
    "seq = data.copy()\n"
   ]
  },
  {
   "cell_type": "code",
   "execution_count": 26,
   "metadata": {
    "collapsed": false
   },
   "outputs": [
    {
     "data": {
      "text/html": [
       "<div>\n",
       "<table border=\"1\" class=\"dataframe\">\n",
       "  <thead>\n",
       "    <tr style=\"text-align: right;\">\n",
       "      <th></th>\n",
       "      <th>dataTime</th>\n",
       "      <th>openPrice</th>\n",
       "      <th>highestPrice</th>\n",
       "      <th>lowestPrice</th>\n",
       "      <th>closePrice</th>\n",
       "      <th>volume</th>\n",
       "      <th>turnover</th>\n",
       "    </tr>\n",
       "  </thead>\n",
       "  <tbody>\n",
       "    <tr>\n",
       "      <th>0</th>\n",
       "      <td>32700</td>\n",
       "      <td>2750</td>\n",
       "      <td>2845</td>\n",
       "      <td>2750</td>\n",
       "      <td>2798</td>\n",
       "      <td>7798</td>\n",
       "      <td>5156</td>\n",
       "    </tr>\n",
       "    <tr>\n",
       "      <th>1</th>\n",
       "      <td>33000</td>\n",
       "      <td>2798</td>\n",
       "      <td>2811</td>\n",
       "      <td>2798</td>\n",
       "      <td>2805</td>\n",
       "      <td>2884</td>\n",
       "      <td>5886</td>\n",
       "    </tr>\n",
       "    <tr>\n",
       "      <th>2</th>\n",
       "      <td>33300</td>\n",
       "      <td>2805</td>\n",
       "      <td>2841</td>\n",
       "      <td>2804</td>\n",
       "      <td>2836</td>\n",
       "      <td>4936</td>\n",
       "      <td>6548</td>\n",
       "    </tr>\n",
       "    <tr>\n",
       "      <th>3</th>\n",
       "      <td>33600</td>\n",
       "      <td>2835</td>\n",
       "      <td>2836</td>\n",
       "      <td>2812</td>\n",
       "      <td>2827</td>\n",
       "      <td>3014</td>\n",
       "      <td>6826</td>\n",
       "    </tr>\n",
       "    <tr>\n",
       "      <th>4</th>\n",
       "      <td>33900</td>\n",
       "      <td>2827</td>\n",
       "      <td>2830</td>\n",
       "      <td>2817</td>\n",
       "      <td>2820</td>\n",
       "      <td>1442</td>\n",
       "      <td>7150</td>\n",
       "    </tr>\n",
       "  </tbody>\n",
       "</table>\n",
       "</div>"
      ],
      "text/plain": [
       "   dataTime  openPrice  highestPrice  lowestPrice  closePrice  volume  \\\n",
       "0     32700       2750          2845         2750        2798    7798   \n",
       "1     33000       2798          2811         2798        2805    2884   \n",
       "2     33300       2805          2841         2804        2836    4936   \n",
       "3     33600       2835          2836         2812        2827    3014   \n",
       "4     33900       2827          2830         2817        2820    1442   \n",
       "\n",
       "   turnover  \n",
       "0      5156  \n",
       "1      5886  \n",
       "2      6548  \n",
       "3      6826  \n",
       "4      7150  "
      ]
     },
     "execution_count": 26,
     "metadata": {},
     "output_type": "execute_result"
    }
   ],
   "source": [
    "seq.head()"
   ]
  },
  {
   "cell_type": "code",
   "execution_count": 27,
   "metadata": {
    "collapsed": false
   },
   "outputs": [
    {
     "data": {
      "text/html": [
       "<div>\n",
       "<table border=\"1\" class=\"dataframe\">\n",
       "  <thead>\n",
       "    <tr style=\"text-align: right;\">\n",
       "      <th></th>\n",
       "      <th>dataTime</th>\n",
       "      <th>openPrice</th>\n",
       "      <th>closePrice</th>\n",
       "      <th>highestPrice</th>\n",
       "      <th>lowestPrice</th>\n",
       "    </tr>\n",
       "  </thead>\n",
       "  <tbody>\n",
       "    <tr>\n",
       "      <th>0</th>\n",
       "      <td>32700.0</td>\n",
       "      <td>2750.0</td>\n",
       "      <td>2798.0</td>\n",
       "      <td>2845.0</td>\n",
       "      <td>2750.0</td>\n",
       "    </tr>\n",
       "    <tr>\n",
       "      <th>1</th>\n",
       "      <td>33000.0</td>\n",
       "      <td>2798.0</td>\n",
       "      <td>2805.0</td>\n",
       "      <td>2811.0</td>\n",
       "      <td>2798.0</td>\n",
       "    </tr>\n",
       "    <tr>\n",
       "      <th>2</th>\n",
       "      <td>33300.0</td>\n",
       "      <td>2805.0</td>\n",
       "      <td>2836.0</td>\n",
       "      <td>2841.0</td>\n",
       "      <td>2804.0</td>\n",
       "    </tr>\n",
       "    <tr>\n",
       "      <th>3</th>\n",
       "      <td>33600.0</td>\n",
       "      <td>2835.0</td>\n",
       "      <td>2827.0</td>\n",
       "      <td>2836.0</td>\n",
       "      <td>2812.0</td>\n",
       "    </tr>\n",
       "    <tr>\n",
       "      <th>4</th>\n",
       "      <td>33900.0</td>\n",
       "      <td>2827.0</td>\n",
       "      <td>2820.0</td>\n",
       "      <td>2830.0</td>\n",
       "      <td>2817.0</td>\n",
       "    </tr>\n",
       "  </tbody>\n",
       "</table>\n",
       "</div>"
      ],
      "text/plain": [
       "   dataTime  openPrice  closePrice  highestPrice  lowestPrice\n",
       "0   32700.0     2750.0      2798.0        2845.0       2750.0\n",
       "1   33000.0     2798.0      2805.0        2811.0       2798.0\n",
       "2   33300.0     2805.0      2836.0        2841.0       2804.0\n",
       "3   33600.0     2835.0      2827.0        2836.0       2812.0\n",
       "4   33900.0     2827.0      2820.0        2830.0       2817.0"
      ]
     },
     "execution_count": 27,
     "metadata": {},
     "output_type": "execute_result"
    }
   ],
   "source": [
    "quotes = seq.get(['dataTime', 'openPrice', 'closePrice', 'highestPrice', 'lowestPrice']).astype(float)\n",
    "quotes.head()"
   ]
  },
  {
   "cell_type": "code",
   "execution_count": 28,
   "metadata": {
    "collapsed": false
   },
   "outputs": [
    {
     "data": {
      "image/png": "[encoded data removed]",
      "text/plain": [
       "<matplotlib.figure.Figure at 0x1d0fed8b198>"
      ]
     },
     "metadata": {},
     "output_type": "display_data"
    }
   ],
   "source": [
    "# 创建一个子图\n",
    "fig, ax = plt.subplots(facecolor=(0.5, 0.5, 0.5))\n",
    "fig.subplots_adjust(bottom=0.2)\n",
    "\n",
    "# 设置X轴刻度为日期时间\n",
    "# ax.xaxis_date()\n",
    "\n",
    "# X轴高强度文字倾斜45度\n",
    "plt.xticks(rotation=45)\n",
    "plt.title('期货5分钟K线图')\n",
    "plt.xlabel('时间')\n",
    "plt.ylabel('价格(元)')\n",
    "candlestick2_ohlc(ax, seq.openPrice, seq.highestPrice, seq.lowestPrice, seq.closePrice, width=1.2, colorup='r', colordown='green')\n",
    "plt.grid(True)"
   ]
  },
  {
   "cell_type": "markdown",
   "metadata": {},
   "source": [
    "#### 生成数据"
   ]
  },
  {
   "cell_type": "code",
   "execution_count": 29,
   "metadata": {
    "collapsed": true
   },
   "outputs": [],
   "source": [
    "def generate_data(seq):\n",
    "    \n",
    "    pass"
   ]
  },
  {
   "cell_type": "markdown",
   "metadata": {},
   "source": [
    "#### 定义多层LSTM神经网络结构"
   ]
  },
  {
   "cell_type": "code",
   "execution_count": 31,
   "metadata": {
    "collapsed": false
   },
   "outputs": [],
   "source": [
    "reset_graph()\n",
    "n_neurons = 150\n",
    "n_steps = 24\n",
    "n_inputs = 7\n",
    "n_outputs = 1\n",
    "n_layers = 3\n",
    "\n",
    "learning_rate = 0.001\n",
    "\n",
    "X = tf.placeholder(tf.float32, [ None, n_steps, n_inputs])\n",
    "y = tf.placeholder(tf.int32, [None])\n",
    "\n",
    "lstm_cells = [tf.contrib.rnn.BasicLSTMCell(num_units=n_neurons) for layer in range(n_layers)]\n",
    "multi_cell = tf.contrib.rnn.MultiRNNCell(lstm_cells)\n",
    "cell = tf.contrib.rnn.OutputProjectionWrapper(multi_cell, output_size=n_outputs)\n",
    "outputs, states = tf.nn.dynamic_rnn(cell, X, dtype=tf.float32)\n",
    "loss = tf.reduce_mean(tf.square(outputs - y))\n",
    "optimizer = tf.train.AdamOptimizer(learning_rate=learning_rate)\n",
    "training_op = optimizer.minimize(loss)\n",
    "init = tf.global_variables_initializer()"
   ]
  },
  {
   "cell_type": "code",
   "execution_count": 32,
   "metadata": {
    "collapsed": false
   },
   "outputs": [
    {
     "ename": "NameError",
     "evalue": "name 'X_batch' is not defined",
     "output_type": "error",
     "traceback": [
      "\u001b[0;31m---------------------------------------------------------------------------\u001b[0m",
      "\u001b[0;31mNameError\u001b[0m                                 Traceback (most recent call last)",
      "\u001b[0;32m<ipython-input-32-5bec2ac1bd2a>\u001b[0m in \u001b[0;36m<module>\u001b[0;34m()\u001b[0m\n\u001b[1;32m      1\u001b[0m \u001b[1;32mwith\u001b[0m \u001b[0mtf\u001b[0m\u001b[1;33m.\u001b[0m\u001b[0mSession\u001b[0m\u001b[1;33m(\u001b[0m\u001b[1;33m)\u001b[0m \u001b[1;32mas\u001b[0m \u001b[0msess\u001b[0m\u001b[1;33m:\u001b[0m\u001b[1;33m\u001b[0m\u001b[0m\n\u001b[1;32m      2\u001b[0m     \u001b[0minit\u001b[0m\u001b[1;33m.\u001b[0m\u001b[0mrun\u001b[0m\u001b[1;33m(\u001b[0m\u001b[1;33m)\u001b[0m\u001b[1;33m\u001b[0m\u001b[0m\n\u001b[0;32m----> 3\u001b[0;31m     \u001b[0moutputs_val\u001b[0m\u001b[1;33m,\u001b[0m \u001b[0mstates_val\u001b[0m \u001b[1;33m=\u001b[0m \u001b[0msess\u001b[0m\u001b[1;33m.\u001b[0m\u001b[0mrun\u001b[0m\u001b[1;33m(\u001b[0m\u001b[1;33m[\u001b[0m\u001b[0moutputs\u001b[0m\u001b[1;33m,\u001b[0m \u001b[0mstates\u001b[0m\u001b[1;33m]\u001b[0m\u001b[1;33m,\u001b[0m \u001b[0mfeed_dict\u001b[0m\u001b[1;33m=\u001b[0m\u001b[1;33m{\u001b[0m\u001b[0mX\u001b[0m\u001b[1;33m:\u001b[0m \u001b[0mX_batch\u001b[0m\u001b[1;33m}\u001b[0m\u001b[1;33m)\u001b[0m\u001b[1;33m\u001b[0m\u001b[0m\n\u001b[0m",
      "\u001b[0;31mNameError\u001b[0m: name 'X_batch' is not defined"
     ]
    }
   ],
   "source": [
    "with tf.Session() as sess:\n",
    "    init.run()\n",
    "    for iteration in n_iterations:\n",
    "        outputs_val, states_val = sess.run([outputs, states], feed_dict={X: X_batch})"
   ]
  },
  {
   "cell_type": "code",
   "execution_count": null,
   "metadata": {
    "collapsed": true
   },
   "outputs": [],
   "source": []
  }
 ],
 "metadata": {
  "kernelspec": {
   "display_name": "Python 3",
   "language": "python",
   "name": "python3"
  },
  "language_info": {
   "codemirror_mode": {
    "name": "ipython",
    "version": 3
   },
   "file_extension": ".py",
   "mimetype": "text/x-python",
   "name": "python",
   "nbconvert_exporter": "python",
   "pygments_lexer": "ipython3",
   "version": "3.6.0"
  }
 },
 "nbformat": 4,
 "nbformat_minor": 0
}
